{
 "cells": [
  {
   "cell_type": "code",
   "execution_count": 4,
   "metadata": {},
   "outputs": [
    {
     "name": "stdout",
     "output_type": "stream",
     "text": [
      "Hello\n",
      "World\n",
      "\n"
     ]
    }
   ],
   "source": [
    "#1\n",
    "\n",
    "f = open('file1.txt','w+')\n",
    "while True:\n",
    "    s = input()\n",
    "    if s == '': break\n",
    "    f.write(s + '\\n')\n",
    "f.close()"
   ]
  },
  {
   "cell_type": "code",
   "execution_count": 6,
   "metadata": {},
   "outputs": [
    {
     "name": "stdout",
     "output_type": "stream",
     "text": [
      "5 letters in line Hello\n",
      "\n",
      "5 letters in line World\n",
      "\n",
      "String count is 2\n"
     ]
    }
   ],
   "source": [
    "#2\n",
    "\n",
    "with open(\"file1.txt\") as f:\n",
    "    lines = 0\n",
    "    letters = 0\n",
    "    for line in f:\n",
    "        lines += line.count(\"\\n\")\n",
    "        letters = len(line)-1\n",
    "        print(f\"{letters} letters in line {line}\")\n",
    "    print(f\"String count is {lines}\")"
   ]
  },
  {
   "cell_type": "code",
   "execution_count": 7,
   "metadata": {},
   "outputs": [],
   "source": [
    "#3\n",
    "\n",
    "workers = {'Cеливанов': 18, 'Петрова': 25, 'Иванов': 30, 'Гришина': 45}\n",
    "f = open(\"file2.txt\", 'w+')\n",
    "for last_name, salary in workers.items():\n",
    "    f.write(last_name + ':' + str(salary) + \"\\n\")\n",
    "f.close()"
   ]
  },
  {
   "cell_type": "code",
   "execution_count": 9,
   "metadata": {},
   "outputs": [
    {
     "name": "stdout",
     "output_type": "stream",
     "text": [
      "Cеливанов:18\n",
      "Петрова:25\n",
      "Иванов:30\n",
      "Гришина:45\n",
      "workers: ['Cеливанов']\n",
      "averate: 29.5\n"
     ]
    }
   ],
   "source": [
    "summa = 0\n",
    "count = 0\n",
    "workers = []\n",
    "with open(\"file2.txt\", \"r\") as f:\n",
    "    for line in f:\n",
    "        print(line, end=\"\")\n",
    "        tokens = line.split(':')\n",
    "        if int(tokens[1]) < 20:\n",
    "            workers.append(tokens[0])\n",
    "        summa += int(tokens[1])\n",
    "        count += 1\n",
    "result = summa / count\n",
    "print(f\"workers: {workers}\")\n",
    "print(f\"averate: {result}\")"
   ]
  },
  {
   "cell_type": "code",
   "execution_count": 11,
   "metadata": {},
   "outputs": [],
   "source": [
    "#4\n",
    "\n",
    "rus = {'One' : 'Один', 'Two' : 'Два', 'Three' : 'Три', 'Four' : 'Четыре'}\n",
    "translater = []\n",
    "with open('file3.txt', 'r') as f:\n",
    "    for i in f:\n",
    "        i = i.split(' ', 1)\n",
    "        translater.append(rus[i[0]] + '  ' + i[1])\n",
    "\n",
    "with open('translater.txt', 'w+') as f2:\n",
    "    f2.writelines(translater)"
   ]
  },
  {
   "cell_type": "code",
   "execution_count": 12,
   "metadata": {},
   "outputs": [
    {
     "name": "stdout",
     "output_type": "stream",
     "text": [
      "Введите цифры через пробел \n",
      "12 34\n",
      "46\n"
     ]
    }
   ],
   "source": [
    "#5\n",
    "\n",
    "with open('file4.txt', 'w+') as f:\n",
    "    line = input('Введите цифры через пробел \\n')\n",
    "    f.writelines(line)\n",
    "    my_numb = line.split()\n",
    "    print(sum(map(int, my_numb)))"
   ]
  },
  {
   "cell_type": "code",
   "execution_count": 13,
   "metadata": {},
   "outputs": [
    {
     "ename": "ValueError",
     "evalue": "invalid literal for int() with base 10: '—'",
     "output_type": "error",
     "traceback": [
      "\u001b[1;31m---------------------------------------------------------------------------\u001b[0m",
      "\u001b[1;31mValueError\u001b[0m                                Traceback (most recent call last)",
      "\u001b[1;32m<ipython-input-13-8aeb8852f6bf>\u001b[0m in \u001b[0;36m<module>\u001b[1;34m\u001b[0m\n\u001b[0;32m      5\u001b[0m     \u001b[1;32mfor\u001b[0m \u001b[0mline\u001b[0m \u001b[1;32min\u001b[0m \u001b[0minit_f\u001b[0m\u001b[1;33m:\u001b[0m\u001b[1;33m\u001b[0m\u001b[1;33m\u001b[0m\u001b[0m\n\u001b[0;32m      6\u001b[0m         \u001b[0msubject\u001b[0m\u001b[1;33m,\u001b[0m \u001b[0mlecture\u001b[0m\u001b[1;33m,\u001b[0m \u001b[0mpractice\u001b[0m\u001b[1;33m,\u001b[0m \u001b[0mlab\u001b[0m \u001b[1;33m=\u001b[0m \u001b[0mline\u001b[0m\u001b[1;33m.\u001b[0m\u001b[0msplit\u001b[0m\u001b[1;33m(\u001b[0m\u001b[1;33m)\u001b[0m\u001b[1;33m\u001b[0m\u001b[1;33m\u001b[0m\u001b[0m\n\u001b[1;32m----> 7\u001b[1;33m         \u001b[0msubj\u001b[0m\u001b[1;33m[\u001b[0m\u001b[0msubject\u001b[0m\u001b[1;33m]\u001b[0m \u001b[1;33m=\u001b[0m \u001b[0mint\u001b[0m\u001b[1;33m(\u001b[0m\u001b[0mlecture\u001b[0m\u001b[1;33m)\u001b[0m \u001b[1;33m+\u001b[0m \u001b[0mint\u001b[0m\u001b[1;33m(\u001b[0m\u001b[0mpractice\u001b[0m\u001b[1;33m)\u001b[0m \u001b[1;33m+\u001b[0m \u001b[0mint\u001b[0m\u001b[1;33m(\u001b[0m\u001b[0mlab\u001b[0m\u001b[1;33m)\u001b[0m\u001b[1;33m\u001b[0m\u001b[1;33m\u001b[0m\u001b[0m\n\u001b[0m\u001b[0;32m      8\u001b[0m     \u001b[0mprint\u001b[0m\u001b[1;33m(\u001b[0m\u001b[1;34mf'Общее количество часов по предмету - \\n {subj}'\u001b[0m\u001b[1;33m)\u001b[0m\u001b[1;33m\u001b[0m\u001b[1;33m\u001b[0m\u001b[0m\n",
      "\u001b[1;31mValueError\u001b[0m: invalid literal for int() with base 10: '—'"
     ]
    }
   ],
   "source": [
    "#6\n",
    "\n",
    "subj = {}\n",
    "with open('file5.txt', 'r') as f:\n",
    "    for line in f:\n",
    "        subject, lecture, practice, lab = line.split()\n",
    "        subj[subject] = int(lecture) + int(practice) + int(lab)\n",
    "    print(f'Общее количество часов по предмету - \\n {subj}')"
   ]
  },
  {
   "cell_type": "code",
   "execution_count": 14,
   "metadata": {},
   "outputs": [
    {
     "name": "stdout",
     "output_type": "stream",
     "text": [
      "Прибыль средняя - 4250.00\n",
      "Прибыль каждой компании - {'firm_1': 5000, 'firm_2': 3500, 'средняя прибыль': 4250}\n",
      "Создан файл с расширением json со следующим содержимым: \n",
      "  {\"firm_1\": 5000, \"firm_2\": 3500, \"\\u0441\\u0440\\u0435\\u0434\\u043d\\u044f\\u044f \\u043f\\u0440\\u0438\\u0431\\u044b\\u043b\\u044c\": 4250}\n"
     ]
    }
   ],
   "source": [
    "#7\n",
    "\n",
    "import json\n",
    "profit = {}\n",
    "pr = {}\n",
    "prof = 0\n",
    "prof_aver = 0\n",
    "i = 0\n",
    "with open('file6.txt', 'r') as f:\n",
    "    for line in f:\n",
    "        name, firm, earning, damage = line.split()\n",
    "        profit[name] = int(earning) - int(damage)\n",
    "        if profit.setdefault(name) >= 0:\n",
    "            prof = prof + profit.setdefault(name)\n",
    "            i += 1\n",
    "    if i != 0:\n",
    "        prof_aver = prof / i\n",
    "        print(f'Прибыль средняя - {prof_aver:.2f}')\n",
    "    else:\n",
    "        print(f'Прибыль средняя - отсутсвует. Все работают в убыток')\n",
    "    pr = {'средняя прибыль': round(prof_aver)}\n",
    "    profit.update(pr)\n",
    "    print(f'Прибыль каждой компании - {profit}')\n",
    "\n",
    "with open('file_7.json', 'w') as js:\n",
    "    json.dump(profit, js)\n",
    "\n",
    "    js_str = json.dumps(profit)\n",
    "    print(f'Создан файл с расширением json со следующим содержимым: \\n '\n",
    "          f' {js_str}') "
   ]
  },
  {
   "cell_type": "code",
   "execution_count": null,
   "metadata": {},
   "outputs": [],
   "source": []
  }
 ],
 "metadata": {
  "kernelspec": {
   "display_name": "Python 3",
   "language": "python",
   "name": "python3"
  },
  "language_info": {
   "codemirror_mode": {
    "name": "ipython",
    "version": 3
   },
   "file_extension": ".py",
   "mimetype": "text/x-python",
   "name": "python",
   "nbconvert_exporter": "python",
   "pygments_lexer": "ipython3",
   "version": "3.7.3"
  }
 },
 "nbformat": 4,
 "nbformat_minor": 2
}

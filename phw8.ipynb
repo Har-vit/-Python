{
 "cells": [
  {
   "cell_type": "code",
   "execution_count": null,
   "metadata": {},
   "outputs": [],
   "source": [
    "1. Реализовать класс «Дата», функция-конструктор которого должна принимать дату в виде строки формата «день-месяц-год». \n",
    "В рамках класса реализовать два метода. Первый, с декоратором @classmethod, должен извлекать число, месяц, год и преобразовывать\n",
    "их тип к типу «Число». Второй, с декоратором @staticmethod, должен проводить валидацию числа, месяца и года \n",
    "(например, месяц — от 1 до 12). Проверить работу полученной структуры на реальных данных."
   ]
  },
  {
   "cell_type": "code",
   "execution_count": 5,
   "metadata": {},
   "outputs": [
    {
     "name": "stdout",
     "output_type": "stream",
     "text": [
      "Текущая дата: (16, 2, 2020)\n",
      "Неправильный год\n",
      "Неправильный месяц\n",
      "(16, 2, 2020)\n",
      "(16, 2, 2020)\n",
      "Валидация пройдена\n"
     ]
    }
   ],
   "source": [
    "class Date:\n",
    "\n",
    "    def __init__(self, day_month_year):\n",
    "        self.day_month_year = str(day_month_year)\n",
    "\n",
    "    @classmethod\n",
    "    def extract(cls, day_month_year):\n",
    "        my_date = []\n",
    "        for i in day_month_year.split():\n",
    "            if i != '-': my_date.append(i)\n",
    "        return int(my_date[0]), int(my_date[1]), int(my_date[2])\n",
    "\n",
    "    @staticmethod\n",
    "    def valid(day, month, year):\n",
    "        if 1 <= day <= 31:\n",
    "            if 1 <= month <= 12:\n",
    "                if 2020 >= year >= 0:\n",
    "                    return f'Валидация пройдена'\n",
    "                else:\n",
    "                    return f'Неправильный год'\n",
    "            else:\n",
    "                return f'Неправильный месяц'\n",
    "        else:\n",
    "            return f'Неправильный день'\n",
    "\n",
    "    def __str__(self):\n",
    "        return f'Текущая дата: {Date.extract(self.day_month_year)}'\n",
    "\n",
    "today = Date('16 - 2 - 2020')\n",
    "print(today)\n",
    "print(Date.valid(16, 2, 2021))\n",
    "print(today.valid(16, 13, 2020))\n",
    "print(Date.extract('16 - 2 - 2020'))\n",
    "print(today.extract('16 - 2 - 2020'))\n",
    "print(Date.valid(16, 2, 2020))"
   ]
  },
  {
   "cell_type": "code",
   "execution_count": null,
   "metadata": {},
   "outputs": [],
   "source": [
    "2. Создайте собственный класс-исключение, обрабатывающий ситуацию деления на нуль. Проверьте его работу на данных, \n",
    "вводимых пользователем. При вводе пользователем нуля в качестве делителя программа должна корректно обработать эту ситуацию и \n",
    "не завершиться с ошибкой."
   ]
  },
  {
   "cell_type": "code",
   "execution_count": 6,
   "metadata": {},
   "outputs": [
    {
     "name": "stdout",
     "output_type": "stream",
     "text": [
      "Деление на ноль\n",
      "Деление на ноль\n",
      "2.0\n"
     ]
    }
   ],
   "source": [
    "class MyZeroDivision:\n",
    "\n",
    "    def __init__(self, divider, denominator):\n",
    "        self.divider = divider\n",
    "        self.denominator = denominator\n",
    "\n",
    "    @staticmethod\n",
    "    def divide_by_null(divider, denominator):\n",
    "        try:\n",
    "            return (divider / denominator)\n",
    "        except:\n",
    "            return (f\"Деление на ноль\")\n",
    "\n",
    "div = MyZeroDivision(10, 100)\n",
    "print(div.divide_by_null(1, 0))\n",
    "print(MyZeroDivision.divide_by_null(1, 0))\n",
    "print(MyZeroDivision.divide_by_null(2, 1))"
   ]
  },
  {
   "cell_type": "code",
   "execution_count": null,
   "metadata": {},
   "outputs": [],
   "source": [
    "3. Создайте собственный класс-исключение, который должен проверять содержимое списка на наличие только чисел.\n",
    "Проверить работу исключения на реальном примере. Необходимо запрашивать у пользователя данные и заполнять список. \n",
    "Класс-исключение должен контролировать типы данных элементов списка."
   ]
  },
  {
   "cell_type": "code",
   "execution_count": 2,
   "metadata": {},
   "outputs": [
    {
     "name": "stdout",
     "output_type": "stream",
     "text": [
      "Введите значение: 10\n",
      "Текущий список - [10] \n",
      " \n",
      "Введите значение: 21\n",
      "Текущий список - [10, 21] \n",
      " \n",
      "Введите значение: 312\n",
      "Текущий список - [10, 21, 312] \n",
      " \n",
      "Введите значение: stop\n",
      "None\n"
     ]
    }
   ],
   "source": [
    "import traceback\n",
    "\n",
    "class Error:\n",
    "\n",
    "    def __init__(self, *args):\n",
    "        self.my_list = []\n",
    "\n",
    "    def my_input(self):\n",
    "        while True:\n",
    "            val = input('Введите значение: ')\n",
    "            try:\n",
    "                self.my_list.append(int(val))\n",
    "                print(f'Текущий список - {self.my_list} \\n ')\n",
    "            except ValueError as e:\n",
    "                if val == 'stop':\n",
    "                    break\n",
    "                print('Ошибка с моим обработчиком:\\n', traceback.format_exc())\n",
    "            except Exception as e:\n",
    "                if val == 'stop':\n",
    "                    break\n",
    "                raise MyException('Другая ошибка')\n",
    "\n",
    "try_except = Error(1)\n",
    "print(try_except.my_input())"
   ]
  },
  {
   "cell_type": "code",
   "execution_count": null,
   "metadata": {},
   "outputs": [],
   "source": [
    "4. Начните работу над проектом «Склад оргтехники». Создайте класс, описывающий склад. А также класс «Оргтехника», который будет \n",
    "базовым для классов-наследников. Эти классы — конкретные типы оргтехники (принтер, сканер, ксерокс). В базовом классе определить\n",
    "параметры, общие для приведенных типов. В классах-наследниках реализовать параметры, уникальные для каждого типа оргтехники.\n",
    "5. Продолжить работу над первым заданием. Разработать методы, отвечающие за приём оргтехники на склад и передачу в определенное \n",
    "подразделение компании. Для хранения данных о наименовании и количестве единиц оргтехники, а также других данных, можно \n",
    "использовать любую подходящую структуру, например словарь.\n",
    "6. Продолжить работу над вторым заданием. Реализуйте механизм валидации вводимых пользователем данных. Например, для указания \n",
    "количества принтеров, отправленных на склад, нельзя использовать строковый тип данных."
   ]
  },
  {
   "cell_type": "code",
   "execution_count": 14,
   "metadata": {},
   "outputs": [
    {
     "name": "stdout",
     "output_type": "stream",
     "text": [
      "Введите наименование: ECOSYS\n",
      "Введите цену за единицу: 20000\n",
      "Введите количество: 5\n",
      "Текущий список -\n",
      " [{'Модель устройства': 'ECOSYS', 'Цена за единицу': 20000, 'Количество': 5}]\n",
      "Для выхода - Q, продолжение - Enter\n",
      "---> Q\n",
      "Весь склад -\n",
      " [[{'Модель устройства': 'ECOSYS', 'Цена за единицу': 20000, 'Количество': 5}]]\n",
      "Выход\n"
     ]
    }
   ],
   "source": [
    "class Equipment:\n",
    "\n",
    "    def __init__(self, name, price, amount, number_of_lists, *args):\n",
    "        self.name = name\n",
    "        self.price = price\n",
    "        self.amount = amount\n",
    "        self.numb = number_of_lists\n",
    "        self.my_store_full = []\n",
    "        self.my_store = []\n",
    "        self.my_unit = {'Модель устройства': self.name, 'Цена за единицу': self.price, 'Количество': self.amount}\n",
    "\n",
    "    def __str__(self):\n",
    "        return f'{self.name} цена {self.price} количество {self.amount}'\n",
    "\n",
    "    def reception(self):\n",
    "        try:\n",
    "            unit = input(f'Введите наименование: ')\n",
    "            unit_p = int(input(f'Введите цену за единицу: '))\n",
    "            unit_q = int(input(f'Введите количество: '))\n",
    "            unique = {'Модель устройства': unit, 'Цена за единицу': unit_p, 'Количество': unit_q}\n",
    "            self.my_unit.update(unique)\n",
    "            self.my_store.append(self.my_unit)\n",
    "            print(f'Текущий список -\\n {self.my_store}')\n",
    "        except:\n",
    "            return f'Ошибка ввода данных'\n",
    "        print(f'Для выхода - Q, продолжение - Enter')\n",
    "        q = input(f'---> ')\n",
    "        if q == 'Q' or q == 'q':\n",
    "            self.my_store_full.append(self.my_store)\n",
    "            print(f'Весь склад -\\n {self.my_store_full}')\n",
    "            return f'Выход'\n",
    "        else:\n",
    "            return Equipment.reception(self)\n",
    "\n",
    "class Printer(Equipment):\n",
    "    \n",
    "    def to_print(self):\n",
    "        return f'to print smth {self.numb} times'\n",
    "\n",
    "class Scanner(Equipment):\n",
    "\n",
    "    def to_scan(self):\n",
    "        return f'to scan smth {self.numb} times'\n",
    "\n",
    "class Copier(Equipment):\n",
    "\n",
    "    def to_copier(self):\n",
    "        return f'to copier smth  {self.numb} times'\n",
    "\n",
    "unit_1 = Printer('ECOSYS', 20000, 5, 10)\n",
    "print(unit_1.reception())"
   ]
  },
  {
   "cell_type": "code",
   "execution_count": 11,
   "metadata": {},
   "outputs": [
    {
     "name": "stdout",
     "output_type": "stream",
     "text": [
      "c1 = 5 + 5i, c2 = 2 - 2i\n",
      "c1 + c2 = 7 + 3i\n",
      "c1 * c2 = 20 - 20i\n"
     ]
    }
   ],
   "source": [
    "class ComplexNumber:\n",
    "\n",
    "    def __init__(self, real: float = 0, imaginary: float = 0):\n",
    "        if not (isinstance(real, float) or isinstance(real, int)):\n",
    "            raise ValueError('Введите число')\n",
    "        if not (isinstance(imaginary, float) or isinstance(imaginary, int)):\n",
    "            raise ValueError('Введите число')\n",
    "        self.re = real\n",
    "        self.im = imaginary\n",
    "\n",
    "    def __str__(self):\n",
    "        return f'{self.re} + {self.im}i' if self.im >=0 else f'{self.re} - {abs(self.im)}i'\n",
    "\n",
    "    def __add__(self, other):\n",
    "        return ComplexNumber(self.re + other.re, self.im + other.im)\n",
    "\n",
    "    def __mul__(self, other):\n",
    "        return ComplexNumber(self.re * other.re - self.im * other.im, self.re * other.im - self.im * other.re)\n",
    "\n",
    "c1 = ComplexNumber(5, 5)\n",
    "c2 = ComplexNumber(2, -2)\n",
    "print(f'c1 = {c1}, c2 = {c2}')\n",
    "print(f'c1 + c2 = {c1 + c2}')\n",
    "print(f'c1 * c2 = {c1 * c2}')"
   ]
  },
  {
   "cell_type": "code",
   "execution_count": null,
   "metadata": {},
   "outputs": [],
   "source": []
  }
 ],
 "metadata": {
  "kernelspec": {
   "display_name": "Python 3",
   "language": "python",
   "name": "python3"
  },
  "language_info": {
   "codemirror_mode": {
    "name": "ipython",
    "version": 3
   },
   "file_extension": ".py",
   "mimetype": "text/x-python",
   "name": "python",
   "nbconvert_exporter": "python",
   "pygments_lexer": "ipython3",
   "version": "3.7.3"
  }
 },
 "nbformat": 4,
 "nbformat_minor": 2
}

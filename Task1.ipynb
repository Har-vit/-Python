{
 "cells": [
  {
   "cell_type": "code",
   "execution_count": 17,
   "metadata": {},
   "outputs": [
    {
     "name": "stdout",
     "output_type": "stream",
     "text": [
      "6 5\n",
      "Введите первое число: 12\n",
      "Введите второе число: 12\n",
      "Введите текст строки: hi\n",
      "12\n",
      "12\n",
      "hi\n"
     ]
    }
   ],
   "source": [
    "a = 6\n",
    "b = 5\n",
    "print (a, b)\n",
    "c = input('Введите первое число: ')\n",
    "d = input('Введите второе число: ')\n",
    "s = input('Введите текст строки: ')\n",
    "print(c, d, s, sep = '\\n')"
   ]
  },
  {
   "cell_type": "code",
   "execution_count": 23,
   "metadata": {},
   "outputs": [
    {
     "name": "stdout",
     "output_type": "stream",
     "text": [
      "Введите количество секунд: 3600\n",
      "1:00:00\n"
     ]
    }
   ],
   "source": [
    "sec = int(input('Введите количество секунд: '))\n",
    "h = str(sec // 3600)\n",
    "m = (sec // 60) % 60\n",
    "s = sec % 60\n",
    "if m < 10:\n",
    "    m = '0' + str(m)\n",
    "else:\n",
    "    m = str(m)\n",
    "if s < 10:\n",
    "    s = '0' + str(s)\n",
    "else:\n",
    "    s = str(s)\n",
    "print(h, m, s, sep = ':')"
   ]
  },
  {
   "cell_type": "code",
   "execution_count": 36,
   "metadata": {},
   "outputs": [
    {
     "name": "stdout",
     "output_type": "stream",
     "text": [
      "Введите число: 3\n",
      "369\n"
     ]
    }
   ],
   "source": [
    "n = int(input('Введите число: '))\n",
    "str_n = str(n) \n",
    "sums = n \n",
    "sum_str = str(n) \n",
    "for i in range(1, 3): \n",
    "    sum_str = sum_str + str_n \n",
    "    sums = sums + int(sum_str)\n",
    "print(sums) "
   ]
  },
  {
   "cell_type": "code",
   "execution_count": 35,
   "metadata": {},
   "outputs": [
    {
     "name": "stdout",
     "output_type": "stream",
     "text": [
      "Введите целое положительное число: 564\n",
      "6\n"
     ]
    }
   ],
   "source": [
    "a = int(input('Введите целое положительное число: '))\n",
    "m = a % 10\n",
    "a = a // 10\n",
    "while a > 0:\n",
    "    if a % 10 > m:\n",
    "        m = a % 10\n",
    "    a = a // 10\n",
    "print(m)"
   ]
  },
  {
   "cell_type": "code",
   "execution_count": 40,
   "metadata": {},
   "outputs": [
    {
     "name": "stdout",
     "output_type": "stream",
     "text": [
      "Введите значение выручки: 100\n",
      "Введите значение издержек: 50\n",
      "фирма работает в прибыль\n",
      "рентабельность выручки составляет:  0.5\n",
      "Введите кол-во сотрудников: 10\n",
      "прибыль в расчете на одного сотрудника составляет:  5.0\n"
     ]
    }
   ],
   "source": [
    "revenue = int(input('Введите значение выручки: '))\n",
    "costs = int(input('Введите значение издержек: '))\n",
    "profit = revenue - costs\n",
    "if profit > 0:\n",
    "    print('фирма работает в прибыль')\n",
    "    profitability = profit / revenue\n",
    "    print('рентабельность выручки составляет: ', profitability)\n",
    "    staff = int(input('Введите кол-во сотрудников: '))\n",
    "    ppp = profit / staff\n",
    "    print('прибыль в расчете на одного сотрудника составляет: ', ppp)\n",
    "else:\n",
    "    print('фирма работает в убыток')\n"
   ]
  },
  {
   "cell_type": "code",
   "execution_count": 45,
   "metadata": {},
   "outputs": [
    {
     "name": "stdout",
     "output_type": "stream",
     "text": [
      "Введите а: 5\n",
      "Введите b: 10\n",
      "Номер дня, на который общий результат спортсмена составит не менее 10 километров - 8\n"
     ]
    }
   ],
   "source": [
    "a = int(input('Введите а: '))\n",
    "b = int(input('Введите b: '))\n",
    "i = 0\n",
    "while (a < b):\n",
    "    a = 1.1 * a\n",
    "    i += 1\n",
    "print('Номер дня, на который общий результат спортсмена составит не менее', b, 'километров -', i)\n",
    "    "
   ]
  },
  {
   "cell_type": "code",
   "execution_count": null,
   "metadata": {},
   "outputs": [],
   "source": []
  }
 ],
 "metadata": {
  "kernelspec": {
   "display_name": "Python 3",
   "language": "python",
   "name": "python3"
  },
  "language_info": {
   "codemirror_mode": {
    "name": "ipython",
    "version": 3
   },
   "file_extension": ".py",
   "mimetype": "text/x-python",
   "name": "python",
   "nbconvert_exporter": "python",
   "pygments_lexer": "ipython3",
   "version": "3.7.3"
  }
 },
 "nbformat": 4,
 "nbformat_minor": 2
}

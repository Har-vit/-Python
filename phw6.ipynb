{
 "cells": [
  {
   "cell_type": "code",
   "execution_count": null,
   "metadata": {},
   "outputs": [],
   "source": [
    "1. Создать класс TrafficLight (светофор) и определить у него один атрибут color (цвет) и метод running (запуск). \n",
    "Атрибут реализовать как приватный. В рамках метода реализовать переключение светофора в режимы: красный, желтый, зеленый. \n",
    "Продолжительность первого состояния (красный) составляет 7 секунд, второго (желтый) — 2 секунды, \n",
    "третьего (зеленый) — на ваше усмотрение. \n",
    "Переключение между режимами должно осуществляться только в указанном порядке (красный, желтый, зеленый). \n",
    "Проверить работу примера, создав экземпляр и вызвав описанный метод."
   ]
  },
  {
   "cell_type": "code",
   "execution_count": 41,
   "metadata": {},
   "outputs": [
    {
     "name": "stdout",
     "output_type": "stream",
     "text": [
      "red\n",
      "yellow\n",
      "green\n"
     ]
    }
   ],
   "source": [
    "from time import sleep\n",
    "\n",
    "class TrafficLight:\n",
    "    __color = ['red', 'yellow', 'green']\n",
    "\n",
    "    def running(self):\n",
    "        i = 0\n",
    "        while i < 3:\n",
    "            print(f'{TrafficLight.__color[i]}')\n",
    "            if i == 0:\n",
    "                sleep(7)\n",
    "            elif i == 1:\n",
    "                sleep(2)\n",
    "            elif i == 2:\n",
    "                sleep(10)\n",
    "            i += 1\n",
    "            \n",
    "TrafficLight = TrafficLight()\n",
    "TrafficLight.running()"
   ]
  },
  {
   "cell_type": "code",
   "execution_count": null,
   "metadata": {},
   "outputs": [],
   "source": [
    "2. Реализовать класс Road (дорога), в котором определить атрибуты: length (длина), width (ширина). \n",
    "Значения данных атрибутов должны передаваться при создании экземпляра класса. Атрибуты сделать защищенными. \n",
    "Определить метод расчета массы асфальта, необходимого для покрытия всего дорожного полотна. \n",
    "Использовать формулу: длинаширинамасса асфальта для покрытия одного кв метра дороги асфальтом, \n",
    "толщиной в 1 см*число см толщины полотна. Проверить работу метода.\n",
    "Например: 20м*5000м*25кг*5см = 12500 т"
   ]
  },
  {
   "cell_type": "code",
   "execution_count": 44,
   "metadata": {},
   "outputs": [
    {
     "name": "stdout",
     "output_type": "stream",
     "text": [
      "The mass of asphalt is 12500.0 t\n"
     ]
    }
   ],
   "source": [
    "class Road:\n",
    "\n",
    "    Weight = 25  \n",
    "\n",
    "    def __init__(self, length, width):\n",
    "        self._length = length\n",
    "        self._width = width\n",
    "\n",
    "    def weight(self, depth):\n",
    "        return depth * self.Weight * self._width * self._length / 1000\n",
    "\n",
    "road_M4 = Road(20, 5000)\n",
    "print('The mass of asphalt is ' f'{road_M4.weight(5)}' ' t')"
   ]
  },
  {
   "cell_type": "code",
   "execution_count": null,
   "metadata": {},
   "outputs": [],
   "source": [
    "3. Реализовать базовый класс Worker (работник), в котором определить атрибуты: name, surname, position (должность), \n",
    "income (доход). Последний атрибут должен быть защищенным и ссылаться на словарь, \n",
    "содержащий элементы: оклад и премия, например, {\"wage\": wage, \"bonus\": bonus}. \n",
    "Создать класс Position (должность) на базе класса Worker. \n",
    "В классе Position реализовать методы получения полного имени сотрудника (get_full_name) и дохода \n",
    "с учетом премии (get_total_income). Проверить работу примера на реальных данных \n",
    "(создать экземпляры класса Position, передать данные, проверить значения атрибутов, вызвать методы экземпляров)."
   ]
  },
  {
   "cell_type": "code",
   "execution_count": 30,
   "metadata": {},
   "outputs": [
    {
     "name": "stdout",
     "output_type": "stream",
     "text": [
      "Name: Oleg Tinkoff\n",
      "Position: DevOps\n",
      "Income: 100000 у. е.\n"
     ]
    }
   ],
   "source": [
    "class Worker:\n",
    "\n",
    "    def __init__(self, name, surname, position, wage, bonus):\n",
    "        self.name = name\n",
    "        self.surname = surname\n",
    "        self.position = position\n",
    "        self._income = {\"wage\": wage, \"bonus\": bonus}\n",
    "\n",
    "class Position(Worker):\n",
    "\n",
    "    def __init__(self, name, surname, position, wage, bonus):\n",
    "        super().__init__(name, surname, position, wage, bonus)\n",
    "\n",
    "    def get_full_name(self):\n",
    "        return 'Name: ' + self.name + ' ' + self.surname\n",
    "\n",
    "    def get_total_income(self):\n",
    "        return 'Income: ' + str(self._income.get('wage') + self._income.get('bonus')) + ' у. е.'\n",
    "\n",
    "a = Position('Oleg', 'Tinkoff', 'DevOps', 80000, 20000)\n",
    "print(a.get_full_name())\n",
    "print('Position: ' + a.position)\n",
    "print(a.get_total_income())"
   ]
  },
  {
   "cell_type": "code",
   "execution_count": null,
   "metadata": {},
   "outputs": [],
   "source": [
    "4. Реализуйте базовый класс Car. У данного класса должны быть следующие атрибуты: speed, color, name, is_police (булево). \n",
    "А также методы: go, stop, turn(direction), которые должны сообщать, что машина поехала, остановилась, повернула (куда). \n",
    "Опишите несколько дочерних классов: TownCar, SportCar, WorkCar, PoliceCar. Добавьте в базовый класс метод show_speed, \n",
    "который должен показывать текущую скорость автомобиля. Для классов TownCar и WorkCar переопределите метод show_speed. \n",
    "При значении скорости свыше 60 (TownCar) и 40 (WorkCar) должно выводиться сообщение о превышении скорости.\n",
    "Создайте экземпляры классов, передайте значения атрибутов. Выполните доступ к атрибутам, выведите результат. \n",
    "Выполните вызов методов и также покажите результат."
   ]
  },
  {
   "cell_type": "code",
   "execution_count": 59,
   "metadata": {},
   "outputs": [
    {
     "name": "stdout",
     "output_type": "stream",
     "text": [
      "Renault is turned left\n",
      "When Smart is turned right, then Bmw is stopped\n",
      "Current speed of work car Renault is 165\n",
      "Renault is started with speed exactly Speed of Renault is higher than allow for work car\n",
      "Renault is White\n",
      "Is Bmw a police car? False\n",
      "Is Renault a police car? True\n",
      "Current speed Bmw is 305\n",
      "Current speed of town car Smart is 170\n",
      "Speed of Smart is higher than allow for town car\n",
      "Scoda is from police department\n",
      "Current speed Scoda is 230\n"
     ]
    }
   ],
   "source": [
    "class Car:\n",
    "\n",
    "    def __init__(self, speed, color, name, is_police):\n",
    "        self.speed = speed\n",
    "        self.color = color\n",
    "        self.name = name\n",
    "        self.is_police = is_police\n",
    "\n",
    "    def go(self):\n",
    "        return f'{self.name} is started'\n",
    "\n",
    "    def stop(self):\n",
    "        return f'{self.name} is stopped'\n",
    "\n",
    "    def turn(self, direction):\n",
    "        self.direction = direction\n",
    "        return f'{self.name} is turned {self.direction}'\n",
    "\n",
    "    def show_speed(self):\n",
    "        return f'Current speed {self.name} is {self.speed}'\n",
    "\n",
    "class TownCar(Car):\n",
    "    \n",
    "    def __init__(self, speed, color, name, is_police):\n",
    "        super().__init__(speed, color, name, is_police)\n",
    "\n",
    "    def show_speed(self):\n",
    "        print(f'Current speed of town car {self.name} is {self.speed}')\n",
    "        if self.speed > 40:\n",
    "            return f'Speed of {self.name} is higher than allow for town car'\n",
    "        else:\n",
    "            return f'Speed of {self.name} is normal for town car'\n",
    "\n",
    "class SportCar(Car):\n",
    "    \n",
    "    def __init__(self, speed, color, name, is_police):\n",
    "        super().__init__(speed, color, name, is_police)\n",
    "\n",
    "class WorkCar(Car):\n",
    "    \n",
    "    def __init__(self, speed, color, name, is_police):\n",
    "        super().__init__(speed, color, name, is_police)\n",
    "\n",
    "    def show_speed(self):\n",
    "        print(f'Current speed of work car {self.name} is {self.speed}')\n",
    "        if self.speed > 60:\n",
    "            return f'Speed of {self.name} is higher than allow for work car'\n",
    "\n",
    "class PoliceCar(Car):\n",
    "    \n",
    "    def __init__(self, speed, color, name, is_police):\n",
    "        super().__init__(speed, color, name, is_police)\n",
    "\n",
    "    def police(self):\n",
    "        if self.is_police:\n",
    "            return f'{self.name} is from police department'\n",
    "        else:\n",
    "            return f'{self.name} is not from police department'\n",
    "\n",
    "bmw = SportCar(305, 'Blue MonteCarlo', 'Bmw', False)\n",
    "smart = TownCar(170, 'Green', 'Smart', False)\n",
    "renault = WorkCar(165, 'White', 'Renault', True)\n",
    "scoda = PoliceCar(230, 'Silver', 'Scoda', True)\n",
    "print(renault.turn('left'))\n",
    "print(f'When {smart.turn(\"right\")}, then {bmw.stop()}')\n",
    "print(f'{renault.go()} with speed exactly {renault.show_speed()}')\n",
    "print(f'{renault.name} is {renault.color}')\n",
    "print(f'Is {bmw.name} a police car? {bmw.is_police}')\n",
    "print(f'Is {renault.name} a police car? {renault.is_police}')\n",
    "print(bmw.show_speed())\n",
    "print(smart.show_speed())\n",
    "print(scoda.police())\n",
    "print(scoda.show_speed())"
   ]
  },
  {
   "cell_type": "code",
   "execution_count": null,
   "metadata": {},
   "outputs": [],
   "source": [
    "5. Реализовать класс Stationery (канцелярская принадлежность). Определить в нем атрибут title (название) \n",
    "и метод draw (отрисовка). Метод выводит сообщение “Запуск отрисовки.” Создать три дочерних класса Pen (ручка), \n",
    "Pencil (карандаш), Handle (маркер). В каждом из классов реализовать переопределение метода draw. \n",
    "Для каждого из классов методы должен выводить уникальное сообщение. Создать экземпляры классов и проверить, \n",
    "что выведет описанный метод для каждого экземпляра."
   ]
  },
  {
   "cell_type": "code",
   "execution_count": 45,
   "metadata": {},
   "outputs": [
    {
     "name": "stdout",
     "output_type": "stream",
     "text": [
      "Pen drawing start\n",
      "Pencil drawing start\n",
      "Marker drawing start\n"
     ]
    }
   ],
   "source": [
    "class Stationary:\n",
    "\n",
    "    def __init__(self, title):\n",
    "        self.title = title\n",
    "\n",
    "    def draw(self):\n",
    "        return 'Drawing start'\n",
    "\n",
    "class Pen(Stationary):\n",
    "    def __init__(self, title):\n",
    "        super().__init__(title)\n",
    "\n",
    "    def draw(self):\n",
    "        return 'Pen drawing start'\n",
    "\n",
    "class Pencil(Stationary):\n",
    "\n",
    "    def __init__(self, title):\n",
    "        super().__init__(title)\n",
    "\n",
    "    def draw(self):\n",
    "        return 'Pencil drawing start'\n",
    "\n",
    "class Handle(Stationary):\n",
    "\n",
    "    def __init__(self, title):\n",
    "        super().__init__(title)\n",
    "\n",
    "    def draw(self):\n",
    "        return 'Marker drawing start'\n",
    "\n",
    "pen = Pen('pen')\n",
    "print(pen.draw())\n",
    "\n",
    "pencil = Pencil('pen')\n",
    "print(pencil.draw())\n",
    "\n",
    "handle = Handle('pen')\n",
    "print(handle.draw())"
   ]
  },
  {
   "cell_type": "code",
   "execution_count": null,
   "metadata": {},
   "outputs": [],
   "source": []
  }
 ],
 "metadata": {
  "kernelspec": {
   "display_name": "Python 3",
   "language": "python",
   "name": "python3"
  },
  "language_info": {
   "codemirror_mode": {
    "name": "ipython",
    "version": 3
   },
   "file_extension": ".py",
   "mimetype": "text/x-python",
   "name": "python",
   "nbconvert_exporter": "python",
   "pygments_lexer": "ipython3",
   "version": "3.7.3"
  }
 },
 "nbformat": 4,
 "nbformat_minor": 2
}

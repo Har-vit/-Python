{
 "cells": [
  {
   "cell_type": "code",
   "execution_count": 1,
   "metadata": {},
   "outputs": [
    {
     "name": "stdout",
     "output_type": "stream",
     "text": [
      "<class 'str'>\n",
      "<class 'int'>\n",
      "<class 'float'>\n",
      "<class 'str'>\n"
     ]
    }
   ],
   "source": [
    "#1\n",
    "\n",
    "my_list = ['A string', 23, 100.232, 'o']\n",
    "for x in my_list:\n",
    "    print (type(x))"
   ]
  },
  {
   "cell_type": "code",
   "execution_count": 6,
   "metadata": {},
   "outputs": [
    {
     "name": "stdout",
     "output_type": "stream",
     "text": [
      "sad happy 12 3 5\n",
      "['happy', 'sad', '3', '12', '5']\n"
     ]
    }
   ],
   "source": [
    "#2\n",
    "\n",
    "l = [s for s in input().split()] \n",
    " \n",
    "j = 0\n",
    "for i in range(int(len(l)/2)):\n",
    "    l[j], l[j+1] = l[j+1], l[j]\n",
    "    j += 2\n",
    " \n",
    "print(l)"
   ]
  },
  {
   "cell_type": "code",
   "execution_count": 1,
   "metadata": {},
   "outputs": [
    {
     "name": "stdout",
     "output_type": "stream",
     "text": [
      "Choose a month: qq\n",
      "Wrong input!\n",
      "Choose a month: 0\n",
      "Wrong input!\n",
      "Choose a month: 13\n",
      "Wrong input!\n",
      "Choose a month: 4\n",
      "['Spring']\n"
     ]
    }
   ],
   "source": [
    "#3 dict\n",
    "\n",
    "seasons = {'Winter': (1, 2, 12),\n",
    "           'Spring': (3, 4, 5),\n",
    "           'Summer': (6, 7, 8),\n",
    "           'Autumn': (9, 10, 11)}\n",
    " \n",
    "def Choose():\n",
    "    try:\n",
    "        month = int(input('Choose a month: '))\n",
    "        if (month > 0) and (month < 13): \n",
    "            result = [key for key in seasons.keys() if month in seasons[key]]\n",
    "            print(result)\n",
    "        else:\n",
    "            print('Wrong input!')\n",
    "            Choose()\n",
    "    except Exception:\n",
    "        print('Wrong input!')\n",
    "        Choose()\n",
    "        \n",
    "Choose()"
   ]
  },
  {
   "cell_type": "code",
   "execution_count": 3,
   "metadata": {},
   "outputs": [
    {
     "name": "stdout",
     "output_type": "stream",
     "text": [
      "Choose a month: saddfdf\n",
      "Wrong input!\n",
      "Choose a month: 111\n",
      "Wrong input!\n",
      "Choose a month: 0\n",
      "Wrong input!\n",
      "Choose a month: 3\n",
      "Spring\n"
     ]
    }
   ],
   "source": [
    "#3 list\n",
    "\n",
    "Winter = [1, 2, 12]\n",
    "Spring = [3, 4, 5]\n",
    "Summer = [6, 7, 8]\n",
    "Autumn = [9, 10, 11]\n",
    "\n",
    "def Choose():\n",
    "    try:\n",
    "        month = int(input('Choose a month: '))\n",
    "        if (month > 0) and (month < 13): \n",
    "            if month in Winter:\n",
    "                print('Winter')\n",
    "            elif month in Spring:\n",
    "                print('Spring')\n",
    "            elif month in Summer:\n",
    "                print('Summer')\n",
    "            else:\n",
    "                print('Autumn')\n",
    "        else:\n",
    "            print('Wrong input!')\n",
    "            Choose()\n",
    "    except Exception:\n",
    "        print('Wrong input!')\n",
    "        Choose()\n",
    "        \n",
    "Choose()"
   ]
  },
  {
   "cell_type": "code",
   "execution_count": 20,
   "metadata": {},
   "outputs": [
    {
     "name": "stdout",
     "output_type": "stream",
     "text": [
      "1234567890000000000000 123 456\n",
      "1. 1234567890\n",
      "\n",
      "2. 123\n",
      "\n",
      "3. 456\n",
      "\n"
     ]
    }
   ],
   "source": [
    "#4\n",
    "\n",
    "i = 1\n",
    "l = [s for s in input().split()] \n",
    "for s in l:\n",
    "    if len(s) > 10:\n",
    "        print (str(i)+'.'+' '+s[:10]+'\\n')\n",
    "    else:\n",
    "        print (str(i)+'.'+' '+s+'\\n')\n",
    "    i += 1"
   ]
  },
  {
   "cell_type": "code",
   "execution_count": 1,
   "metadata": {},
   "outputs": [
    {
     "name": "stdout",
     "output_type": "stream",
     "text": [
      "Enter a number: 6\n",
      "[7, 5, 3, 3, 2, 6]\n"
     ]
    }
   ],
   "source": [
    "#5\n",
    "\n",
    "my_list = [7, 5, 3, 3, 2]\n",
    "\n",
    "def modification(my_list):\n",
    "    try:\n",
    "        value = int(input('Enter a number: '))\n",
    "        max_value = max(my_list)\n",
    "        if value > max_value:\n",
    "            my_list.insert(0, value)\n",
    "        elif value in my_list:\n",
    "            my_list.insert(my_list.index(value), value)\n",
    "        else:\n",
    "            my_list.append(value)\n",
    "        print(my_list)\n",
    "    except Exception:\n",
    "        print('Wrong input!')\n",
    "        modification(my_list)\n",
    "        \n",
    "modification(my_list)"
   ]
  },
  {
   "cell_type": "code",
   "execution_count": null,
   "metadata": {},
   "outputs": [],
   "source": []
  }
 ],
 "metadata": {
  "kernelspec": {
   "display_name": "Python 3",
   "language": "python",
   "name": "python3"
  },
  "language_info": {
   "codemirror_mode": {
    "name": "ipython",
    "version": 3
   },
   "file_extension": ".py",
   "mimetype": "text/x-python",
   "name": "python",
   "nbconvert_exporter": "python",
   "pygments_lexer": "ipython3",
   "version": "3.7.3"
  }
 },
 "nbformat": 4,
 "nbformat_minor": 2
}
